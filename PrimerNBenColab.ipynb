{
  "nbformat": 4,
  "nbformat_minor": 0,
  "metadata": {
    "colab": {
      "name": "Untitled0.ipynb",
      "version": "0.3.2",
      "provenance": [],
      "include_colab_link": true
    },
    "kernelspec": {
      "name": "python3",
      "display_name": "Python 3"
    }
  },
  "cells": [
    {
      "cell_type": "markdown",
      "metadata": {
        "id": "view-in-github",
        "colab_type": "text"
      },
      "source": [
        "<a href=\"https://colab.research.google.com/github/hugoportillar22/ProbandoMiGitHub/blob/master/PrimerNBenColab.ipynb\" target=\"_parent\"><img src=\"https://colab.research.google.com/assets/colab-badge.svg\" alt=\"Open In Colab\"/></a>"
      ]
    },
    {
      "cell_type": "markdown",
      "metadata": {
        "id": "3imdhPKd6F7R",
        "colab_type": "text"
      },
      "source": [
        "Lo ideal es trabajar en local y correr aquí los modelos. \n",
        "Estan terribles los shortcuts.\n",
        "Están genial los recursos."
      ]
    },
    {
      "cell_type": "markdown",
      "metadata": {
        "id": "5LeCdf7LOvfc",
        "colab_type": "text"
      },
      "source": [
        "Probaré conectar esto con mi Github"
      ]
    },
    {
      "cell_type": "markdown",
      "metadata": {
        "id": "NDS90BBROxZ7",
        "colab_type": "text"
      },
      "source": [
        "Tambien usar R"
      ]
    },
    {
      "cell_type": "markdown",
      "metadata": {
        "id": "0Fdi9W9jP1GR",
        "colab_type": "text"
      },
      "source": [
        "Procurar er todas las notas en la charla de Chío.\n",
        "|"
      ]
    },
    {
      "cell_type": "markdown",
      "metadata": {
        "id": "jYn4sCEVP1Kf",
        "colab_type": "text"
      },
      "source": [
        "Se puede usar Latex\n",
        " $ \\varphi(\\hat{\\sigma}) $\n",
        " "
      ]
    },
    {
      "cell_type": "markdown",
      "metadata": {
        "id": "LU8pBpAeP1Ux",
        "colab_type": "text"
      },
      "source": [
        "Por primera vez en mi vida elegí una licencia con https://choosealicense.com/"
      ]
    },
    {
      "cell_type": "code",
      "metadata": {
        "id": "29oVaWXnP1aN",
        "colab_type": "code",
        "colab": {}
      },
      "source": [
        ""
      ],
      "execution_count": 0,
      "outputs": []
    },
    {
      "cell_type": "code",
      "metadata": {
        "id": "HxcP794p6PJf",
        "colab_type": "code",
        "outputId": "3ceecd11-f57e-4816-8542-e5c762487f61",
        "colab": {
          "base_uri": "https://localhost:8080/",
          "height": 34
        }
      },
      "source": [
        "2+2"
      ],
      "execution_count": 0,
      "outputs": [
        {
          "output_type": "execute_result",
          "data": {
            "text/plain": [
              "4"
            ]
          },
          "metadata": {
            "tags": []
          },
          "execution_count": 2
        }
      ]
    }
  ]
}